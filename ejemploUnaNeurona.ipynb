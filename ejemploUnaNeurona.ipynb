{
  "nbformat": 4,
  "nbformat_minor": 0,
  "metadata": {
    "colab": {
      "name": "Untitled0.ipynb",
      "provenance": [],
      "collapsed_sections": []
    },
    "kernelspec": {
      "name": "python3",
      "display_name": "Python 3"
    },
    "language_info": {
      "name": "python"
    }
  },
  "cells": [
    {
      "cell_type": "code",
      "metadata": {
        "id": "WPAIV4xDjA--"
      },
      "source": [
        "import tensorflow as tf\n",
        "import numpy as np"
      ],
      "execution_count": 2,
      "outputs": []
    },
    {
      "cell_type": "code",
      "metadata": {
        "id": "5yx-e8DjjcsZ"
      },
      "source": [
        "celsius=np.array([-40,-10,0,8,15,22,38],dtype=float)\n",
        "fahrenheit = np.array([-40,14,32,46,59,72,100],dtype = float)"
      ],
      "execution_count": 26,
      "outputs": []
    },
    {
      "cell_type": "code",
      "metadata": {
        "id": "VJj9L4pskKCC"
      },
      "source": [
        "oculta1 = tf.keras.layers.Dense(units=500,input_shape = [1])\n",
        "oculta2 = tf.keras.layers.Dense(units =500)\n",
        "salida = tf.keras.layers.Dense(units=1)\n",
        "modelo = tf.keras.Sequential([oculta1,oculta2,salida])"
      ],
      "execution_count": 38,
      "outputs": []
    },
    {
      "cell_type": "code",
      "metadata": {
        "id": "u9T6kVy_k3d1"
      },
      "source": [
        "modelo.compile(\n",
        "    optimizer=tf.keras.optimizers.Adam(0.1),\n",
        "    loss='mean_squared_error'\n",
        ")"
      ],
      "execution_count": 39,
      "outputs": []
    },
    {
      "cell_type": "code",
      "metadata": {
        "colab": {
          "base_uri": "https://localhost:8080/"
        },
        "id": "lsc3BlTkldKw",
        "outputId": "a9aeda53-6e84-4149-adcc-63ef5e7e241f"
      },
      "source": [
        "print(\"Comienza el entrenamiento... \")\n",
        "historial = modelo.fit(celsius,fahrenheit,epochs = 1000,verbose=False)\n",
        "print(\"Modelo entrenado!\")"
      ],
      "execution_count": 40,
      "outputs": [
        {
          "output_type": "stream",
          "text": [
            "Comienza el entrenamiento... \n",
            "Modelo entrenado!\n"
          ],
          "name": "stdout"
        }
      ]
    },
    {
      "cell_type": "code",
      "metadata": {
        "colab": {
          "base_uri": "https://localhost:8080/",
          "height": 307
        },
        "id": "N7chLEwgmKqN",
        "outputId": "7411ad00-db36-492e-dae9-b7ecc22b0677"
      },
      "source": [
        "import matplotlib.pyplot as plt\n",
        "plt.xlabel(\"a Epoca\")\n",
        "plt.ylabel(\"Magnitud de perdida\")\n",
        "plt.plot(historial.history[\"loss\"])\n"
      ],
      "execution_count": 41,
      "outputs": [
        {
          "output_type": "execute_result",
          "data": {
            "text/plain": [
              "[<matplotlib.lines.Line2D at 0x7efc96d9d650>]"
            ]
          },
          "metadata": {},
          "execution_count": 41
        },
        {
          "output_type": "display_data",
          "data": {
            "image/png": "[encoded data removed]",
            "text/plain": [
              "<Figure size 432x288 with 1 Axes>"
            ]
          },
          "metadata": {
            "needs_background": "light"
          }
        }
      ]
    },
    {
      "cell_type": "code",
      "metadata": {
        "colab": {
          "base_uri": "https://localhost:8080/"
        },
        "id": "wFm7hmfWnC4B",
        "outputId": "19077c49-1ede-48e6-9583-9ba8ed6d5c82"
      },
      "source": [
        "print(\"Hagamos una prediccio!\")\n",
        "resultado = modelo.predict([100.0])\n",
        "print(\"El resultado es \"+ str(resultado) + \"fahrenheit\")"
      ],
      "execution_count": 44,
      "outputs": [
        {
          "output_type": "stream",
          "text": [
            "Hagamos una prediccio!\n",
            "El resultado es [[211.74738]]fahrenheit\n"
          ],
          "name": "stdout"
        }
      ]
    },
    {
      "cell_type": "code",
      "metadata": {
        "id": "hXs_YOjMrV5I"
      },
      "source": [
        ""
      ],
      "execution_count": null,
      "outputs": []
    },
    {
      "cell_type": "code",
      "metadata": {
        "colab": {
          "base_uri": "https://localhost:8080/"
        },
        "id": "VQXxqemDnr7A",
        "outputId": "f6da6225-fb2a-434d-a387-e7de1c1a2cd9"
      },
      "source": [
        "print(\"Variables internas del modelo\")\n",
        "print(capa.get_weights())"
      ],
      "execution_count": 37,
      "outputs": [
        {
          "output_type": "stream",
          "text": [
            "Variables internas del modelo\n",
            "[array([[0.84694386]], dtype=float32), array([47.864265], dtype=float32)]\n"
          ],
          "name": "stdout"
        }
      ]
    }
  ]
}