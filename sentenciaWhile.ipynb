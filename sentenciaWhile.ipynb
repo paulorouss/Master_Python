{
 "cells": [
  {
   "cell_type": "code",
   "execution_count": 4,
   "id": "362489a8",
   "metadata": {},
   "outputs": [
    {
     "name": "stdout",
     "output_type": "stream",
     "text": [
      "HOLA BIENVENIDO AL PROGRAMA QUE TE DICE SI TU NUEMROS ES IMPAR O PAR\n",
      "INGRESE UN NUMERO PORFAVOR: 4\n",
      "ESPERE PROCESANDO ....\n",
      "ES UN NUEMERO PAR :  4.0\n"
     ]
    }
   ],
   "source": [
    "import time\n",
    "print(\"HOLA BIENVENIDO AL PROGRAMA QUE TE DICE SI TU NUEMROS ES IMPAR O PAR\")\n",
    "valor = input(\"INGRESE UN NUMERO PORFAVOR: \")\n",
    "valor = float(valor)\n",
    "print(\"ESPERE PROCESANDO ....\")\n",
    "time.sleep(10)\n",
    "\n",
    "if valor % 2 == 0:\n",
    "    print(\"ES UN NUEMERO PAR : \",valor)\n",
    "else :\n",
    "    print(\"ES UN NUMERO IMPAR\")"
   ]
  },
  {
   "cell_type": "code",
   "execution_count": 10,
   "id": "788f5fa9",
   "metadata": {},
   "outputs": [
    {
     "name": "stdout",
     "output_type": "stream",
     "text": [
      "CUANTAS VECES QUIERE ITERAR : 7\n",
      "EL VALOR ES:  0\n",
      "EL VALOR ES:  1\n",
      "EL VALOR ES:  2\n",
      "EL VALOR ES:  3\n",
      "EL VALOR ES:  4\n",
      "EL VALOR ES:  5\n",
      "EL VALOR ES:  6\n",
      "EL VALOR ES:  7\n"
     ]
    }
   ],
   "source": [
    "valor1=input(\"CUANTAS VECES QUIERE ITERAR : \")\n",
    "valor1 = int(valor1)\n",
    "contador = 0\n",
    "while contador <= valor1 :\n",
    "        contador +=1\n",
    "        print(\"EL VALOR ES: \",contador-1)\n"
   ]
  },
  {
   "cell_type": "code",
   "execution_count": null,
   "id": "500385e5",
   "metadata": {},
   "outputs": [
    {
     "name": "stdout",
     "output_type": "stream",
     "text": [
      "HOLA BEINVENIDO AL MENU INTERACTIVO\n",
      "¿QUE DESEAS HACER ? ESCRIBE UNA OPCION: \n",
      "          1) SALUDAR\n",
      "          2)  SUMAR\n",
      "          3)  SALIR \n",
      "1\n",
      "HOLA COMO ESTAS\n",
      "¿QUE DESEAS HACER ? ESCRIBE UNA OPCION: \n",
      "          1) SALUDAR\n",
      "          2)  SUMAR\n",
      "          3)  SALIR \n"
     ]
    }
   ],
   "source": [
    "print(\"HOLA BEINVENIDO AL MENU INTERACTIVO\")\n",
    "while(True):\n",
    "    print(\"\"\"¿QUE DESEAS HACER ? ESCRIBE UNA OPCION: \n",
    "          1) SALUDAR\n",
    "          2)  SUMAR\n",
    "          3)  SALIR \"\"\")\n",
    "    opcion = input()\n",
    "    if opcion == '1':\n",
    "                print(\"HOLA COMO ESTAS\")\n",
    "    elif opcion == '2':\n",
    "              print(\"hasta luego\")\n",
    "              break\n",
    "    else : \n",
    "            print(\"VUELVA A INTENTAR\")\n",
    "            \n",
    "    "
   ]
  },
  {
   "cell_type": "code",
   "execution_count": null,
   "id": "c0ddbf71",
   "metadata": {},
   "outputs": [],
   "source": []
  },
  {
   "cell_type": "code",
   "execution_count": null,
   "id": "3063171f",
   "metadata": {},
   "outputs": [],
   "source": []
  }
 ],
 "metadata": {
  "kernelspec": {
   "display_name": "Python 3",
   "language": "python",
   "name": "python3"
  },
  "language_info": {
   "codemirror_mode": {
    "name": "ipython",
    "version": 3
   },
   "file_extension": ".py",
   "mimetype": "text/x-python",
   "name": "python",
   "nbconvert_exporter": "python",
   "pygments_lexer": "ipython3",
   "version": "3.8.8"
  }
 },
 "nbformat": 4,
 "nbformat_minor": 5
}
